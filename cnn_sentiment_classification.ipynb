{
  "cells": [
    {
      "cell_type": "code",
      "execution_count": 1,
      "id": "62c5150c-cb51-40bd-b4bf-d94c7dd99c4f",
      "metadata": {
        "id": "62c5150c-cb51-40bd-b4bf-d94c7dd99c4f"
      },
      "outputs": [],
      "source": [
        "import os\n",
        "import tarfile\n",
        "import torch\n",
        "import torch.nn as nn\n",
        "from torch.utils.data import Dataset, DataLoader, random_split\n",
        "import numpy as np\n",
        "import nltk\n",
        "from nltk.data import find\n",
        "from nltk.tokenize import TreebankWordTokenizer\n",
        "from nltk.corpus import sentiwordnet as swn\n",
        "import matplotlib.pyplot as plt\n",
        "\n",
        "\n",
        "# Extract IMDb dataset\n",
        "def extract_imdb_dataset(tar_path, extract_to=\"./imdb_dataset\"):\n",
        "    if not os.path.exists(tar_path):\n",
        "        print(f\"Dataset file '{tar_path}' not found.\")\n",
        "        print(\"Please download the IMDb dataset manually and place it in the specified path.\")\n",
        "        return None\n",
        "\n",
        "    if not os.path.exists(extract_to + \"/aclImdb\") or not os.listdir(extract_to + \"/aclImdb\"):\n",
        "        print(\"Extracting IMDb dataset...\")\n",
        "        with tarfile.open(tar_path, \"r:gz\") as tar:\n",
        "            tar.extractall(path=extract_to)\n",
        "        print(\"Extraction complete.\")\n",
        "    else:\n",
        "        print(\"IMDb dataset already extracted.\")\n",
        "    return extract_to\n",
        "\n",
        "\n",
        "# Load IMDb dataset\n",
        "def load_imdb_data(dataset_dir):\n",
        "    print(\"Loading data...\")\n",
        "    texts, labels = [], []\n",
        "    for split in [\"train\", \"test\"]:\n",
        "        for sentiment in [\"pos\", \"neg\"]:\n",
        "            dir_path = os.path.join(dataset_dir, split, sentiment)\n",
        "            label = 1 if sentiment == \"pos\" else 0\n",
        "            for file in os.listdir(dir_path):\n",
        "                with open(os.path.join(dir_path, file), \"r\", encoding=\"utf-8\") as f:\n",
        "                    texts.append(f.read())\n",
        "                    labels.append(label)\n",
        "    print(\"Data has been loaded.\")\n",
        "    return texts, labels\n",
        "\n",
        "\n",
        "# Tokenize texts and build vocabulary\n",
        "def build_vocab(texts, tokenizer, special_tokens=[\"<PAD>\", \"<UNK>\"]):\n",
        "    print(\"Tokenizing texts...\")\n",
        "    vocab = {token: idx for idx, token in enumerate(special_tokens)}\n",
        "    for text in texts:\n",
        "        tokens = tokenizer.tokenize(text.lower())\n",
        "        for token in tokens:\n",
        "            if token not in vocab:\n",
        "                vocab[token] = len(vocab)\n",
        "    print(\"Texts have been tokenized and vocabulary has been built.\")\n",
        "    return vocab\n",
        "\n",
        "\n",
        "# Define a function to build the lexicon\n",
        "def build_lexicon_from_swn():\n",
        "    print(\"Assigning lexicon sentiment scores...\")\n",
        "\n",
        "    # Function to ensure `sentiwordnet` and `wordnet` resources are downloaded\n",
        "    def ensure_resource_downloaded(resource_name):\n",
        "        try:\n",
        "            nltk.data.find(resource_name)\n",
        "            print(f\"Resource '{resource_name}' is already downloaded.\")\n",
        "        except LookupError:\n",
        "            print(f\"Resource '{resource_name}' not found. Downloading now...\")\n",
        "            nltk.download(resource_name)\n",
        "\n",
        "    ensure_resource_downloaded(\"sentiwordnet\")\n",
        "    ensure_resource_downloaded(\"wordnet\")\n",
        "\n",
        "    lexicon = {}\n",
        "    for word in swn.all_senti_synsets():\n",
        "        word_key = word.synset.name().split('.')[0]\n",
        "\n",
        "        # Extract sentiment scores\n",
        "        pos_score = word.pos_score()\n",
        "        neg_score = word.neg_score()\n",
        "        obj_score = 1 - pos_score - neg_score\n",
        "\n",
        "        # Add part-of-speech encoding (4 dimensions: Noun, Verb, Adjective, Adverb)\n",
        "        pos_tag = word.synset.pos()\n",
        "        pos_one_hot = np.zeros(4)\n",
        "        if pos_tag == 'n':\n",
        "            pos_one_hot[0] = 1\n",
        "        elif pos_tag == 'v':\n",
        "            pos_one_hot[1] = 1\n",
        "        elif pos_tag == 'a':\n",
        "            pos_one_hot[2] = 1\n",
        "        elif pos_tag == 'r':\n",
        "            pos_one_hot[3] = 1\n",
        "\n",
        "        # Add random features for additional dimensions (trainable embeddings later)\n",
        "        random_features = np.random.uniform(-1, 1, 3)\n",
        "\n",
        "        # Combine features into a single 10-dimensional vector\n",
        "        lexicon_features = np.concatenate([[pos_score, neg_score, obj_score], pos_one_hot, random_features])\n",
        "\n",
        "        # Avoid overwriting and average scores for duplicate entries\n",
        "        if word_key in lexicon:\n",
        "            lexicon[word_key] = (lexicon[word_key] + lexicon_features) / 2\n",
        "        else:\n",
        "            lexicon[word_key] = lexicon_features\n",
        "\n",
        "    print(\"Lexicon sentiment scores has been assigned.\")\n",
        "    return lexicon\n",
        "\n",
        "\n",
        "# Define preprocessing functions\n",
        "def preprocess_text(text, vocab, max_len):\n",
        "    tokenizer = TreebankWordTokenizer()\n",
        "    tokens = tokenizer.tokenize(text.lower())\n",
        "    token_indices = [vocab.get(token, vocab[\"<UNK>\"]) for token in tokens]\n",
        "    token_indices = token_indices[:max_len] + [0] * (max_len - len(token_indices))\n",
        "    return token_indices\n",
        "\n",
        "def get_lexicon_features(text, lexicon, vocab, max_len, feature_dim=10):\n",
        "    tokenizer = TreebankWordTokenizer()\n",
        "    tokens = tokenizer.tokenize(text.lower())\n",
        "\n",
        "    features = []\n",
        "    for token in tokens:\n",
        "        if token in lexicon:\n",
        "            features.append(lexicon[token])\n",
        "        else:\n",
        "            features.append([0.0] * feature_dim)\n",
        "\n",
        "    if len(features) < max_len:\n",
        "        # Pad with zero vectors if the sequence is shorter than max_len\n",
        "        padding = [[0.0] * feature_dim] * (max_len - len(features))\n",
        "        features.extend(padding)\n",
        "    else:\n",
        "        # Truncate to max_len if the sequence is longer\n",
        "        features = features[:max_len]\n",
        "\n",
        "    return features\n",
        "\n",
        "\n",
        "# Define dataset class\n",
        "class SentimentDataset(Dataset):\n",
        "    def __init__(self, texts, labels, vocab, lexicon, max_len=512, device=\"cpu\"):\n",
        "        self.texts = texts\n",
        "        self.labels = labels\n",
        "        self.vocab = vocab\n",
        "        self.lexicon = lexicon\n",
        "        self.max_len = max_len\n",
        "        self.device = device\n",
        "\n",
        "    def __len__(self):\n",
        "        return len(self.texts)\n",
        "\n",
        "    def __getitem__(self, idx):\n",
        "        text = self.texts[idx]\n",
        "        label = self.labels[idx]\n",
        "        token_indices = preprocess_text(text, self.vocab, self.max_len)\n",
        "        lexicon_features = get_lexicon_features(text, self.lexicon, self.vocab, self.max_len)\n",
        "        return {\n",
        "            \"tokens\": torch.tensor(token_indices, dtype=torch.long).to(self.device),\n",
        "            \"lexicon_features\": torch.from_numpy(np.array(lexicon_features, dtype=np.float32)).to(self.device),\n",
        "            \"label\": torch.tensor(label, dtype=torch.long).to(self.device)\n",
        "        }"
      ]
    },
    {
      "cell_type": "markdown",
      "source": [
        "# Prepare data"
      ],
      "metadata": {
        "id": "gqRFn2L7bN-6"
      },
      "id": "gqRFn2L7bN-6"
    },
    {
      "cell_type": "code",
      "execution_count": 2,
      "id": "afb982a9-5ec9-4817-8ef0-e513c56993ed",
      "metadata": {
        "colab": {
          "base_uri": "https://localhost:8080/"
        },
        "id": "afb982a9-5ec9-4817-8ef0-e513c56993ed",
        "outputId": "3c4373d8-b56f-402f-a82c-a37ae1269f4c"
      },
      "outputs": [
        {
          "output_type": "stream",
          "name": "stdout",
          "text": [
            "IMDb dataset already extracted.\n",
            "Loading data...\n",
            "Data has been loaded.\n",
            "Tokenizing texts...\n",
            "Texts have been tokenized and vocabulary has been built.\n",
            "Assigning lexicon sentiment scores...\n",
            "Resource 'sentiwordnet' not found. Downloading now...\n",
            "Resource 'wordnet' not found. Downloading now...\n"
          ]
        },
        {
          "output_type": "stream",
          "name": "stderr",
          "text": [
            "[nltk_data] Downloading package sentiwordnet to /root/nltk_data...\n",
            "[nltk_data]   Package sentiwordnet is already up-to-date!\n",
            "[nltk_data] Downloading package wordnet to /root/nltk_data...\n",
            "[nltk_data]   Package wordnet is already up-to-date!\n"
          ]
        },
        {
          "output_type": "stream",
          "name": "stdout",
          "text": [
            "Lexicon sentiment scores has been assigned.\n"
          ]
        }
      ],
      "source": [
        "# Path to IMDb dataset\n",
        "tar_path = \"./imdb_dataset/aclImdb_v1.tar.gz\"\n",
        "extracted_path = \"./imdb_dataset\"\n",
        "\n",
        "# Extract and load the dataset\n",
        "extract_imdb_dataset(tar_path, extracted_path)\n",
        "texts, labels = load_imdb_data(extracted_path + \"/aclImdb\")\n",
        "\n",
        "\n",
        "# Tokenize and build vocabulary\n",
        "tokenizer = TreebankWordTokenizer()\n",
        "vocab = build_vocab(texts, tokenizer)\n",
        "\n",
        "# Build the lexicon\n",
        "lexicon = build_lexicon_from_swn()\n",
        "\n",
        "# Create the PyTorch Dataset\n",
        "dataset = SentimentDataset(texts, labels, vocab, lexicon)"
      ]
    },
    {
      "cell_type": "markdown",
      "source": [
        "# Baseline CNN Model"
      ],
      "metadata": {
        "id": "OzqKrRqJbVuA"
      },
      "id": "OzqKrRqJbVuA"
    },
    {
      "cell_type": "code",
      "source": [
        "class BaselineCNN(nn.Module):\n",
        "    def __init__(self, vocab_size, embedding_dim, num_classes, kernel_sizes=[3, 4, 5], num_filters=50, dropout=0.5):\n",
        "        super(BaselineCNN, self).__init__()\n",
        "        # Embedding layer\n",
        "        self.embedding = nn.Embedding(vocab_size, embedding_dim)\n",
        "\n",
        "        # Convolutional layers\n",
        "        self.convs = nn.ModuleList([\n",
        "            nn.Conv2d(1, num_filters, (k, embedding_dim))\n",
        "            for k in kernel_sizes\n",
        "        ])\n",
        "\n",
        "        # Fully connected layer\n",
        "        self.fc = nn.Linear(len(kernel_sizes) * num_filters, num_classes)\n",
        "        self.dropout = nn.Dropout(dropout)\n",
        "        self.softmax = nn.Softmax(dim=1)\n",
        "\n",
        "\n",
        "    def forward(self, tokens, lexicon_features=None):\n",
        "        # Word embeddings\n",
        "        embed = self.embedding(tokens)  # [batch_size, seq_len, embedding_dim]\n",
        "\n",
        "        # Add channel dimension for CNN\n",
        "        embed = embed.unsqueeze(1)  # [batch_size, 1, seq_len, embedding_dim]\n",
        "\n",
        "        # Apply convolution and pooling\n",
        "        conv_outputs = [\n",
        "            torch.relu(conv(embed)).squeeze(3) for conv in self.convs\n",
        "        ]  # List of [batch_size, num_filters, seq_len - kernel_size + 1]\n",
        "        pooled_outputs = [torch.max(conv, dim=2)[0] for conv in conv_outputs]  # [batch_size, num_filters]\n",
        "\n",
        "        # Concatenate and classify\n",
        "        concatenated = torch.cat(pooled_outputs, dim=1)  # [batch_size, len(kernel_sizes) * num_filters]\n",
        "        dropped = self.dropout(concatenated)\n",
        "        logits = self.fc(dropped)  # [batch_size, num_classes]\n",
        "        return self.softmax(logits)\n",
        "\n",
        "# Create model\n",
        "vocab_size = len(vocab)\n",
        "embedding_dim = 50\n",
        "num_classes = 2\n",
        "\n",
        "baseline_model = BaselineCNN(vocab_size, embedding_dim, num_classes)\n",
        "print(baseline_model)"
      ],
      "metadata": {
        "colab": {
          "base_uri": "https://localhost:8080/"
        },
        "id": "Ud8CU7ZQaIcC",
        "outputId": "a2b7aa31-58dd-4365-9503-b8721b253ef1"
      },
      "id": "Ud8CU7ZQaIcC",
      "execution_count": 3,
      "outputs": [
        {
          "output_type": "stream",
          "name": "stdout",
          "text": [
            "BaselineCNN(\n",
            "  (embedding): Embedding(187679, 50)\n",
            "  (convs): ModuleList(\n",
            "    (0): Conv2d(1, 50, kernel_size=(3, 50), stride=(1, 1))\n",
            "    (1): Conv2d(1, 50, kernel_size=(4, 50), stride=(1, 1))\n",
            "    (2): Conv2d(1, 50, kernel_size=(5, 50), stride=(1, 1))\n",
            "  )\n",
            "  (fc): Linear(in_features=150, out_features=2, bias=True)\n",
            "  (dropout): Dropout(p=0.5, inplace=False)\n",
            "  (softmax): Softmax(dim=1)\n",
            ")\n"
          ]
        }
      ]
    },
    {
      "cell_type": "code",
      "execution_count": 4,
      "id": "c05eb1b0-32fc-4a5f-830a-b89ee6ccf68d",
      "metadata": {
        "id": "c05eb1b0-32fc-4a5f-830a-b89ee6ccf68d",
        "colab": {
          "base_uri": "https://localhost:8080/"
        },
        "outputId": "7f0ec0dd-ef8d-4768-e4d1-b95f20a5c0b8"
      },
      "outputs": [
        {
          "output_type": "stream",
          "name": "stdout",
          "text": [
            "Training samples: 40000\n",
            "Testing samples: 10000\n"
          ]
        }
      ],
      "source": [
        "# Split the Dataset\n",
        "train_split = 0.8\n",
        "train_size = int(train_split * len(dataset))\n",
        "test_size = len(dataset) - train_size\n",
        "train_dataset, test_dataset = random_split(dataset, [train_size, test_size])\n",
        "train_loader = DataLoader(train_dataset, batch_size=32, shuffle=True)\n",
        "test_loader = DataLoader(test_dataset, batch_size=32, shuffle=False)\n",
        "\n",
        "# Display split information\n",
        "print(f\"Training samples: {len(train_dataset)}\")\n",
        "print(f\"Testing samples: {len(test_dataset)}\")"
      ]
    },
    {
      "cell_type": "code",
      "execution_count": 5,
      "id": "0b9edaf0-9968-43c3-9e34-c5cdaca79a2b",
      "metadata": {
        "id": "0b9edaf0-9968-43c3-9e34-c5cdaca79a2b",
        "colab": {
          "base_uri": "https://localhost:8080/"
        },
        "outputId": "7d008f33-84ce-43fb-b096-161246452fc9"
      },
      "outputs": [
        {
          "output_type": "stream",
          "name": "stdout",
          "text": [
            "Using device: cuda\n",
            "Epoch 1/10:\n",
            "  Train Loss: 0.6335 | Train Accuracy: 0.6383\n",
            "  Test Loss: 0.5274 | Test Accuracy: 0.7748\n",
            "Epoch 2/10:\n",
            "  Train Loss: 0.5464 | Train Accuracy: 0.7497\n",
            "  Test Loss: 0.5034 | Test Accuracy: 0.8011\n",
            "Epoch 3/10:\n",
            "  Train Loss: 0.5068 | Train Accuracy: 0.7941\n",
            "  Test Loss: 0.4704 | Test Accuracy: 0.8320\n",
            "Epoch 4/10:\n",
            "  Train Loss: 0.4772 | Train Accuracy: 0.8272\n",
            "  Test Loss: 0.4536 | Test Accuracy: 0.8525\n",
            "Epoch 5/10:\n",
            "  Train Loss: 0.4538 | Train Accuracy: 0.8530\n",
            "  Test Loss: 0.4456 | Test Accuracy: 0.8578\n",
            "Epoch 6/10:\n",
            "  Train Loss: 0.4330 | Train Accuracy: 0.8758\n",
            "  Test Loss: 0.4423 | Test Accuracy: 0.8630\n",
            "Epoch 7/10:\n",
            "  Train Loss: 0.4155 | Train Accuracy: 0.8935\n",
            "  Test Loss: 0.4373 | Test Accuracy: 0.8685\n",
            "Epoch 8/10:\n",
            "  Train Loss: 0.4006 | Train Accuracy: 0.9097\n",
            "  Test Loss: 0.4357 | Test Accuracy: 0.8716\n",
            "Epoch 9/10:\n",
            "  Train Loss: 0.3893 | Train Accuracy: 0.9221\n",
            "  Test Loss: 0.4366 | Test Accuracy: 0.8709\n",
            "Epoch 10/10:\n",
            "  Train Loss: 0.3798 | Train Accuracy: 0.9318\n",
            "  Test Loss: 0.4381 | Test Accuracy: 0.8696\n"
          ]
        }
      ],
      "source": [
        "# Check for GPU availability and set the device\n",
        "device = torch.device(\"cuda\" if torch.cuda.is_available() else \"cpu\")\n",
        "print(f\"Using device: {device}\")\n",
        "\n",
        "train_loader = DataLoader(train_dataset, batch_size=32, shuffle=True)\n",
        "test_loader = DataLoader(test_dataset, batch_size=32, shuffle=False)\n",
        "\n",
        "# Move the model to the device\n",
        "baseline_model = baseline_model.to(device)\n",
        "\n",
        "# Define the training and evaluation functions\n",
        "def train_model(model, train_loader, test_loader, optimizer, criterion, epochs=10, device=\"cpu\"):\n",
        "    train_losses, test_losses = [], []\n",
        "    train_accuracies, test_accuracies = [], []\n",
        "\n",
        "    for epoch in range(epochs):\n",
        "        model.train()\n",
        "        total_loss, correct = 0, 0\n",
        "\n",
        "        # Training loop\n",
        "        for batch in train_loader:\n",
        "            tokens = batch[\"tokens\"].to(device)\n",
        "            lexicon_features = batch[\"lexicon_features\"].to(device)\n",
        "            labels = batch[\"label\"].to(device)\n",
        "\n",
        "            optimizer.zero_grad()  # Reset gradients\n",
        "            outputs = model(tokens, lexicon_features)  # Forward pass\n",
        "            loss = criterion(outputs, labels)  # Compute loss\n",
        "            loss.backward()  # Backpropagation\n",
        "            optimizer.step()  # Update weights\n",
        "\n",
        "            total_loss += loss.item()\n",
        "            correct += (outputs.argmax(dim=1) == labels).sum().item()\n",
        "\n",
        "        # Calculate training metrics\n",
        "        train_loss = total_loss / len(train_loader)\n",
        "        train_accuracy = correct / len(train_loader.dataset)\n",
        "        train_losses.append(train_loss)\n",
        "        train_accuracies.append(train_accuracy)\n",
        "\n",
        "        # Evaluate on the test set\n",
        "        test_loss, test_accuracy = evaluate_model(model, test_loader, criterion, device)\n",
        "        test_losses.append(test_loss)\n",
        "        test_accuracies.append(test_accuracy)\n",
        "\n",
        "        # Print epoch summary\n",
        "        print(f\"Epoch {epoch+1}/{epochs}:\")\n",
        "        print(f\"  Train Loss: {train_loss:.4f} | Train Accuracy: {train_accuracy:.4f}\")\n",
        "        print(f\"  Test Loss: {test_loss:.4f} | Test Accuracy: {test_accuracy:.4f}\")\n",
        "\n",
        "    return train_losses, train_accuracies, test_losses, test_accuracies\n",
        "\n",
        "def evaluate_model(model, test_loader, criterion, device=\"cpu\"):\n",
        "    model.eval()\n",
        "    total_loss, correct = 0, 0\n",
        "\n",
        "    with torch.no_grad():\n",
        "        for batch in test_loader:\n",
        "            tokens = batch[\"tokens\"].to(device)\n",
        "            lexicon_features = batch[\"lexicon_features\"].to(device)\n",
        "            labels = batch[\"label\"].to(device)\n",
        "\n",
        "            outputs = model(tokens, lexicon_features)  # Forward pass\n",
        "            loss = criterion(outputs, labels)  # Compute loss\n",
        "\n",
        "            total_loss += loss.item()\n",
        "            correct += (outputs.argmax(dim=1) == labels).sum().item()\n",
        "\n",
        "    accuracy = correct / len(test_loader.dataset)\n",
        "    return total_loss / len(test_loader), accuracy\n",
        "\n",
        "# Training setup\n",
        "criterion = nn.CrossEntropyLoss()  # Loss function for classification\n",
        "optimizer = torch.optim.Adam(baseline_model.parameters(), lr=0.001)  # Adam optimizer\n",
        "epochs = 10\n",
        "\n",
        "# Train the model and record metrics\n",
        "train_losses_md1, train_accuracies_md1, test_losses_md1, test_accuracies_md1 = train_model(\n",
        "    baseline_model, train_loader, test_loader, optimizer, criterion, epochs, device\n",
        ")"
      ]
    },
    {
      "cell_type": "code",
      "execution_count": 6,
      "id": "dbb3a7e7-588c-4e1e-8e97-7f3dbfa18a1a",
      "metadata": {
        "id": "dbb3a7e7-588c-4e1e-8e97-7f3dbfa18a1a",
        "colab": {
          "base_uri": "https://localhost:8080/",
          "height": 581
        },
        "outputId": "c6546fea-2a65-4721-c709-dfe940fe4ec4"
      },
      "outputs": [
        {
          "output_type": "stream",
          "name": "stdout",
          "text": [
            "Plot saved to plots/training_and_test_accuracy_of_baseline_model.png\n"
          ]
        },
        {
          "output_type": "display_data",
          "data": {
            "text/plain": [
              "<Figure size 1000x600 with 1 Axes>"
            ],
            "image/png": "[encoded data removed]"
          },
          "metadata": {}
        }
      ],
      "source": [
        "def plot_metrics(epochs, train_values, test_values, ylabel, title, save_folder=\"plots\"):\n",
        "    os.makedirs(save_folder, exist_ok=True)\n",
        "    # Plot the metrics\n",
        "    plt.figure(figsize=(10, 6))\n",
        "    plt.plot(epochs, train_values, label=\"Train\", marker=\"o\")\n",
        "    plt.plot(epochs, test_values, label=\"Test\", marker=\"o\")\n",
        "    plt.xlabel(\"Epoch\")\n",
        "    plt.ylabel(ylabel)\n",
        "    plt.title(title)\n",
        "    plt.legend()\n",
        "    plt.grid()\n",
        "    # Save the plot\n",
        "    filename = f\"{save_folder}/{title.replace(' ', '_').lower()}.png\"\n",
        "    plt.savefig(filename, bbox_inches=\"tight\")\n",
        "    print(f\"Plot saved to {filename}\")\n",
        "    # Show the plot\n",
        "    plt.show()\n",
        "\n",
        "epochs_range = range(1, epochs + 1)\n",
        "\n",
        "# Plot accuracy\n",
        "plot_metrics(epochs_range, train_accuracies_md1, test_accuracies_md1, ylabel=\"Accuracy\",\n",
        "             title=\"Training and Test Accuracy of Baseline Model\")"
      ]
    },
    {
      "cell_type": "markdown",
      "source": [
        "# Lexicon Integrated CNN Model"
      ],
      "metadata": {
        "id": "MxJr_rxscPcA"
      },
      "id": "MxJr_rxscPcA"
    },
    {
      "cell_type": "code",
      "source": [
        "class LexiconIntegratedCNN(nn.Module):\n",
        "    def __init__(self, vocab_size, embedding_dim, num_classes, lexicon_dim=10, kernel_sizes=[3, 4, 5], num_filters=50, dropout=0.5):\n",
        "        super(LexiconIntegratedCNN, self).__init__()\n",
        "        # Embedding layer\n",
        "        self.embedding = nn.Embedding(vocab_size, embedding_dim)\n",
        "\n",
        "        # Convolutional layers\n",
        "        self.convs = nn.ModuleList([\n",
        "            nn.Conv2d(1, num_filters, (k, embedding_dim + lexicon_dim))\n",
        "            for k in kernel_sizes\n",
        "        ])\n",
        "\n",
        "        # Fully connected layer\n",
        "        self.fc = nn.Linear(len(kernel_sizes) * num_filters, num_classes)\n",
        "        self.dropout = nn.Dropout(dropout)\n",
        "        self.softmax = nn.Softmax(dim=1)\n",
        "\n",
        "    def forward(self, tokens, lexicon_features):\n",
        "        # Word embeddings\n",
        "        embed = self.embedding(tokens)  # [batch_size, seq_len, embedding_dim]\n",
        "\n",
        "        # Combine embeddings with lexicon features\n",
        "        # lexicon_features is already 10-dimensional\n",
        "        combined = torch.cat((embed, lexicon_features), dim=-1)  # [batch_size, seq_len, embedding_dim + lexicon_dim]\n",
        "\n",
        "        # Add channel dimension for CNN\n",
        "        combined = combined.unsqueeze(1)  # [batch_size, 1, seq_len, embedding_dim + lexicon_dim]\n",
        "\n",
        "        # Apply convolution and pooling\n",
        "        conv_outputs = [\n",
        "            torch.relu(conv(combined)).squeeze(3) for conv in self.convs\n",
        "        ]  # List of [batch_size, num_filters, seq_len - kernel_size + 1]\n",
        "        pooled_outputs = [torch.max(conv, dim=2)[0] for conv in conv_outputs]  # [batch_size, num_filters]\n",
        "\n",
        "        # Concatenate and classify\n",
        "        concatenated = torch.cat(pooled_outputs, dim=1)  # [batch_size, len(kernel_sizes) * num_filters]\n",
        "        dropped = self.dropout(concatenated)\n",
        "        logits = self.fc(dropped)  # [batch_size, num_classes]\n",
        "        return self.softmax(logits)\n",
        "\n",
        "\n",
        "lexicon_dim = 10\n",
        "\n",
        "lexicon_model = LexiconIntegratedCNN(vocab_size, embedding_dim, num_classes, lexicon_dim=lexicon_dim)\n",
        "print(lexicon_model)"
      ],
      "metadata": {
        "colab": {
          "base_uri": "https://localhost:8080/"
        },
        "id": "XmijqdagaVP1",
        "outputId": "1ad64001-acf3-4625-960e-5ca0c0ce0418"
      },
      "id": "XmijqdagaVP1",
      "execution_count": 7,
      "outputs": [
        {
          "output_type": "stream",
          "name": "stdout",
          "text": [
            "LexiconIntegratedCNN(\n",
            "  (embedding): Embedding(187679, 50)\n",
            "  (convs): ModuleList(\n",
            "    (0): Conv2d(1, 50, kernel_size=(3, 60), stride=(1, 1))\n",
            "    (1): Conv2d(1, 50, kernel_size=(4, 60), stride=(1, 1))\n",
            "    (2): Conv2d(1, 50, kernel_size=(5, 60), stride=(1, 1))\n",
            "  )\n",
            "  (fc): Linear(in_features=150, out_features=2, bias=True)\n",
            "  (dropout): Dropout(p=0.5, inplace=False)\n",
            "  (softmax): Softmax(dim=1)\n",
            ")\n"
          ]
        }
      ]
    },
    {
      "cell_type": "code",
      "source": [
        "# Training setup\n",
        "\n",
        "# Check for GPU availability and set the device\n",
        "device = torch.device(\"cuda\" if torch.cuda.is_available() else \"cpu\")\n",
        "print(f\"Using device: {device}\")\n",
        "\n",
        "# Move the model to the device\n",
        "lexicon_model = lexicon_model.to(device)\n",
        "\n",
        "criterion = nn.CrossEntropyLoss()\n",
        "optimizer = torch.optim.Adam(lexicon_model.parameters(), lr=0.001)\n",
        "epochs = 10\n",
        "\n",
        "# Train the model and record metrics\n",
        "train_losses_md2, train_accuracies_md2, test_losses_md2, test_accuracies_md2 = train_model(\n",
        "    lexicon_model, train_loader, test_loader, optimizer, criterion, epochs, device\n",
        ")"
      ],
      "metadata": {
        "colab": {
          "base_uri": "https://localhost:8080/"
        },
        "id": "bqC3_OXLahBB",
        "outputId": "1cbd12d2-8fd3-4879-8ebf-f7a62c2ed6e2"
      },
      "id": "bqC3_OXLahBB",
      "execution_count": 8,
      "outputs": [
        {
          "output_type": "stream",
          "name": "stdout",
          "text": [
            "Using device: cuda\n",
            "Epoch 1/10:\n",
            "  Train Loss: 0.6198 | Train Accuracy: 0.6547\n",
            "  Test Loss: 0.5246 | Test Accuracy: 0.7832\n",
            "Epoch 2/10:\n",
            "  Train Loss: 0.5296 | Train Accuracy: 0.7702\n",
            "  Test Loss: 0.4765 | Test Accuracy: 0.8267\n",
            "Epoch 3/10:\n",
            "  Train Loss: 0.4858 | Train Accuracy: 0.8196\n",
            "  Test Loss: 0.4529 | Test Accuracy: 0.8537\n",
            "Epoch 4/10:\n",
            "  Train Loss: 0.4527 | Train Accuracy: 0.8539\n",
            "  Test Loss: 0.4416 | Test Accuracy: 0.8647\n",
            "Epoch 5/10:\n",
            "  Train Loss: 0.4260 | Train Accuracy: 0.8826\n",
            "  Test Loss: 0.4360 | Test Accuracy: 0.8699\n",
            "Epoch 6/10:\n",
            "  Train Loss: 0.4069 | Train Accuracy: 0.9029\n",
            "  Test Loss: 0.4327 | Test Accuracy: 0.8739\n",
            "Epoch 7/10:\n",
            "  Train Loss: 0.3896 | Train Accuracy: 0.9216\n",
            "  Test Loss: 0.4400 | Test Accuracy: 0.8649\n",
            "Epoch 8/10:\n",
            "  Train Loss: 0.3791 | Train Accuracy: 0.9322\n",
            "  Test Loss: 0.4324 | Test Accuracy: 0.8751\n",
            "Epoch 9/10:\n",
            "  Train Loss: 0.3683 | Train Accuracy: 0.9445\n",
            "  Test Loss: 0.4330 | Test Accuracy: 0.8745\n",
            "Epoch 10/10:\n",
            "  Train Loss: 0.3618 | Train Accuracy: 0.9511\n",
            "  Test Loss: 0.4347 | Test Accuracy: 0.8744\n"
          ]
        }
      ]
    },
    {
      "cell_type": "code",
      "source": [
        "# Plot accuracy\n",
        "plot_metrics(epochs_range, train_accuracies_md2, test_accuracies_md2, ylabel=\"Accuracy\",\n",
        "             title=\"Training and Test Accuracy of Lexicon Model\")"
      ],
      "metadata": {
        "colab": {
          "base_uri": "https://localhost:8080/",
          "height": 581
        },
        "id": "oHC1NAa2ahoz",
        "outputId": "005d67fe-3020-4e6c-a3f7-ebcb9d7c47fd"
      },
      "id": "oHC1NAa2ahoz",
      "execution_count": 9,
      "outputs": [
        {
          "output_type": "stream",
          "name": "stdout",
          "text": [
            "Plot saved to plots/training_and_test_accuracy_of_lexicon_model.png\n"
          ]
        },
        {
          "output_type": "display_data",
          "data": {
            "text/plain": [
              "<Figure size 1000x600 with 1 Axes>"
            ],
            "image/png": "[encoded data removed]"
          },
          "metadata": {}
        }
      ]
    },
    {
      "cell_type": "markdown",
      "source": [
        "# Lexicon Integrated CNN Model with Attention"
      ],
      "metadata": {
        "id": "FLJ91mApcYpF"
      },
      "id": "FLJ91mApcYpF"
    },
    {
      "cell_type": "code",
      "execution_count": 10,
      "id": "XZ8imYo5NtuH",
      "metadata": {
        "id": "XZ8imYo5NtuH",
        "colab": {
          "base_uri": "https://localhost:8080/"
        },
        "outputId": "0066da83-6a3c-4be4-9f9c-5b615df1493d"
      },
      "outputs": [
        {
          "output_type": "stream",
          "name": "stdout",
          "text": [
            "LexiconIntegratedAttentionCNN(\n",
            "  (embedding): Embedding(187679, 50)\n",
            "  (attention_fc): Linear(in_features=60, out_features=1, bias=True)\n",
            "  (convs): ModuleList(\n",
            "    (0): Conv2d(1, 50, kernel_size=(3, 60), stride=(1, 1))\n",
            "    (1): Conv2d(1, 50, kernel_size=(4, 60), stride=(1, 1))\n",
            "    (2): Conv2d(1, 50, kernel_size=(5, 60), stride=(1, 1))\n",
            "  )\n",
            "  (fc): Linear(in_features=150, out_features=2, bias=True)\n",
            "  (dropout): Dropout(p=0.5, inplace=False)\n",
            ")\n"
          ]
        }
      ],
      "source": [
        "import torch.nn.functional as F\n",
        "\n",
        "class LexiconIntegratedAttentionCNN(nn.Module):\n",
        "    def __init__(self, vocab_size, embedding_dim, num_classes, lexicon_dim=10, kernel_sizes=[3, 4, 5], num_filters=50, dropout=0.5):\n",
        "        super(LexiconIntegratedAttentionCNN, self).__init__()\n",
        "\n",
        "        # Embedding layer\n",
        "        self.embedding = nn.Embedding(vocab_size, embedding_dim)\n",
        "\n",
        "        # Attention layer\n",
        "        self.attention_fc = nn.Linear(embedding_dim + lexicon_dim, 1)  # Compute attention scores\n",
        "\n",
        "        # Convolutional layers\n",
        "        self.convs = nn.ModuleList([\n",
        "            nn.Conv2d(1, num_filters, (k, embedding_dim + lexicon_dim))\n",
        "            for k in kernel_sizes\n",
        "        ])\n",
        "\n",
        "        # Fully connected layer\n",
        "        self.fc = nn.Linear(len(kernel_sizes) * num_filters, num_classes)\n",
        "        self.dropout = nn.Dropout(dropout)\n",
        "\n",
        "    def forward(self, tokens, lexicon_features):\n",
        "        # Word embeddings\n",
        "        embed = self.embedding(tokens)  # [batch_size, seq_len, embedding_dim]\n",
        "\n",
        "        # Combine embeddings with lexicon features\n",
        "        # lexicon_features shape: [batch_size, seq_len, lexicon_dim]\n",
        "        combined = torch.cat((embed, lexicon_features), dim=-1)  # [batch_size, seq_len, embedding_dim + lexicon_dim]\n",
        "\n",
        "        # Compute attention scores\n",
        "        attention_scores = self.attention_fc(combined)  # [batch_size, seq_len, 1]\n",
        "        attention_weights = F.softmax(attention_scores, dim=1)  # Normalize across the sequence\n",
        "\n",
        "        # Apply attention\n",
        "        combined = combined * attention_weights  # Element-wise weighting [batch_size, seq_len, embedding_dim + lexicon_dim]\n",
        "\n",
        "        # Add channel dimension for CNN\n",
        "        combined = combined.unsqueeze(1)  # [batch_size, 1, seq_len, embedding_dim + lexicon_dim]\n",
        "\n",
        "        # Apply convolution and pooling\n",
        "        conv_outputs = [\n",
        "            torch.relu(conv(combined)).squeeze(3) for conv in self.convs\n",
        "        ]  # List of [batch_size, num_filters, seq_len - kernel_size + 1]\n",
        "        pooled_outputs = [torch.max(conv, dim=2)[0] for conv in conv_outputs]  # [batch_size, num_filters]\n",
        "\n",
        "        # Concatenate and classify\n",
        "        concatenated = torch.cat(pooled_outputs, dim=1)  # [batch_size, len(kernel_sizes) * num_filters]\n",
        "        dropped = self.dropout(concatenated)\n",
        "        logits = self.fc(dropped)  # [batch_size, num_classes]\n",
        "        return logits\n",
        "\n",
        "\n",
        "attention_model = LexiconIntegratedAttentionCNN(vocab_size, embedding_dim, num_classes, lexicon_dim=lexicon_dim)\n",
        "print(attention_model)"
      ]
    },
    {
      "cell_type": "code",
      "execution_count": 11,
      "id": "JaScPXziOSKr",
      "metadata": {
        "id": "JaScPXziOSKr",
        "colab": {
          "base_uri": "https://localhost:8080/"
        },
        "outputId": "eb8524f8-f68d-4bbb-b37d-cf477ead7f5e"
      },
      "outputs": [
        {
          "output_type": "stream",
          "name": "stdout",
          "text": [
            "Using device: cuda\n",
            "Epoch 1/10:\n",
            "  Train Loss: 0.6525 | Train Accuracy: 0.6109\n",
            "  Test Loss: 0.5853 | Test Accuracy: 0.6957\n",
            "Epoch 2/10:\n",
            "  Train Loss: 0.5703 | Train Accuracy: 0.7062\n",
            "  Test Loss: 0.5438 | Test Accuracy: 0.7299\n",
            "Epoch 3/10:\n",
            "  Train Loss: 0.5228 | Train Accuracy: 0.7431\n",
            "  Test Loss: 0.5013 | Test Accuracy: 0.7612\n",
            "Epoch 4/10:\n",
            "  Train Loss: 0.4617 | Train Accuracy: 0.7815\n",
            "  Test Loss: 0.4480 | Test Accuracy: 0.7937\n",
            "Epoch 5/10:\n",
            "  Train Loss: 0.4096 | Train Accuracy: 0.8133\n",
            "  Test Loss: 0.4262 | Test Accuracy: 0.8071\n",
            "Epoch 6/10:\n",
            "  Train Loss: 0.3680 | Train Accuracy: 0.8348\n",
            "  Test Loss: 0.4056 | Test Accuracy: 0.8223\n",
            "Epoch 7/10:\n",
            "  Train Loss: 0.3273 | Train Accuracy: 0.8586\n",
            "  Test Loss: 0.3902 | Test Accuracy: 0.8288\n",
            "Epoch 8/10:\n",
            "  Train Loss: 0.2856 | Train Accuracy: 0.8807\n",
            "  Test Loss: 0.3872 | Test Accuracy: 0.8396\n",
            "Epoch 9/10:\n",
            "  Train Loss: 0.2483 | Train Accuracy: 0.9005\n",
            "  Test Loss: 0.3891 | Test Accuracy: 0.8439\n",
            "Epoch 10/10:\n",
            "  Train Loss: 0.2144 | Train Accuracy: 0.9152\n",
            "  Test Loss: 0.4014 | Test Accuracy: 0.8422\n"
          ]
        }
      ],
      "source": [
        "# Training setup\n",
        "\n",
        "# Check for GPU availability and set the device\n",
        "device = torch.device(\"cuda\" if torch.cuda.is_available() else \"cpu\")\n",
        "print(f\"Using device: {device}\")\n",
        "\n",
        "# Move the model to the device\n",
        "attention_model = attention_model.to(device)\n",
        "\n",
        "criterion = nn.CrossEntropyLoss()\n",
        "optimizer = torch.optim.Adam(attention_model.parameters(), lr=0.001)\n",
        "epochs = 10\n",
        "\n",
        "# Train the model and record metrics\n",
        "train_losses_md3, train_accuracies_md3, test_losses_md3, test_accuracies_md3 = train_model(\n",
        "    attention_model, train_loader, test_loader, optimizer, criterion, epochs, device\n",
        ")"
      ]
    },
    {
      "cell_type": "code",
      "execution_count": 12,
      "id": "MtG0rBIJOmxV",
      "metadata": {
        "id": "MtG0rBIJOmxV",
        "colab": {
          "base_uri": "https://localhost:8080/",
          "height": 581
        },
        "outputId": "d79428c7-d2b7-419a-da70-e36e61aa0dbd"
      },
      "outputs": [
        {
          "output_type": "stream",
          "name": "stdout",
          "text": [
            "Plot saved to plots/training_and_test_accuracy_of_lexicon_model_with_attention.png\n"
          ]
        },
        {
          "output_type": "display_data",
          "data": {
            "text/plain": [
              "<Figure size 1000x600 with 1 Axes>"
            ],
            "image/png": "[encoded data removed]"
          },
          "metadata": {}
        }
      ],
      "source": [
        "# Plot accuracy\n",
        "plot_metrics(epochs_range, train_accuracies_md3, test_accuracies_md3, ylabel=\"Accuracy\",\n",
        "             title=\"Training and Test Accuracy of Lexicon Model with Attention\")"
      ]
    },
    {
      "cell_type": "code",
      "execution_count": 12,
      "id": "g4dJNCQmTqGI",
      "metadata": {
        "id": "g4dJNCQmTqGI"
      },
      "outputs": [],
      "source": []
    }
  ],
  "metadata": {
    "accelerator": "GPU",
    "colab": {
      "gpuType": "L4",
      "provenance": []
    },
    "kernelspec": {
      "display_name": "Python (lign167)",
      "language": "python",
      "name": "lign167"
    },
    "language_info": {
      "codemirror_mode": {
        "name": "ipython",
        "version": 3
      },
      "file_extension": ".py",
      "mimetype": "text/x-python",
      "name": "python",
      "nbconvert_exporter": "python",
      "pygments_lexer": "ipython3",
      "version": "3.9.20"
    }
  },
  "nbformat": 4,
  "nbformat_minor": 5
}